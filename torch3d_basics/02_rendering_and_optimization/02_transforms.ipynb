{
 "cells": [
  {
   "cell_type": "code",
   "execution_count": 1,
   "metadata": {},
   "outputs": [
    {
     "name": "stdout",
     "output_type": "stream",
     "text": [
      "log_rot_hat shape: torch.Size([4, 3, 3])\n",
      "log_rot_hat: tensor([[[ 0.0000e+00, -2.0000e-04,  1.0000e-04],\n",
      "         [ 2.0000e-04,  0.0000e+00, -1.0000e-03],\n",
      "         [-1.0000e-04,  1.0000e-03,  0.0000e+00]],\n",
      "\n",
      "        [[ 0.0000e+00, -2.0000e-04,  1.0000e-03],\n",
      "         [ 2.0000e-04,  0.0000e+00, -1.0000e-04],\n",
      "         [-1.0000e-03,  1.0000e-04,  0.0000e+00]],\n",
      "\n",
      "        [[ 0.0000e+00, -1.0000e-03,  2.0000e-04],\n",
      "         [ 1.0000e-03,  0.0000e+00, -1.0000e-04],\n",
      "         [-2.0000e-04,  1.0000e-04,  0.0000e+00]],\n",
      "\n",
      "        [[ 0.0000e+00, -3.0000e-03,  2.0000e-03],\n",
      "         [ 3.0000e-03,  0.0000e+00, -1.0000e-03],\n",
      "         [-2.0000e-03,  1.0000e-03,  0.0000e+00]]], device='cuda:0')\n",
      "log_rot_copy shape: torch.Size([4, 3])\n",
      "log_rot_copy: tensor([[1.0000e-03, 1.0000e-04, 2.0000e-04],\n",
      "        [1.0000e-04, 1.0000e-03, 2.0000e-04],\n",
      "        [1.0000e-04, 2.0000e-04, 1.0000e-03],\n",
      "        [1.0000e-03, 2.0000e-03, 3.0000e-03]], device='cuda:0')\n",
      "rotation_matrices: tensor([[[ 1.0000e+00, -1.9995e-04,  1.0010e-04],\n",
      "         [ 2.0005e-04,  1.0000e+00, -9.9999e-04],\n",
      "         [-9.9900e-05,  1.0000e-03,  1.0000e+00]],\n",
      "\n",
      "        [[ 1.0000e+00, -1.9995e-04,  1.0000e-03],\n",
      "         [ 2.0005e-04,  1.0000e+00, -9.9900e-05],\n",
      "         [-9.9999e-04,  1.0010e-04,  1.0000e+00]],\n",
      "\n",
      "        [[ 1.0000e+00, -9.9999e-04,  2.0005e-04],\n",
      "         [ 1.0000e-03,  1.0000e+00, -9.9900e-05],\n",
      "         [-1.9995e-04,  1.0010e-04,  1.0000e+00]],\n",
      "\n",
      "        [[ 9.9999e-01, -2.9990e-03,  2.0015e-03],\n",
      "         [ 3.0010e-03,  9.9999e-01, -9.9700e-04],\n",
      "         [-1.9985e-03,  1.0030e-03,  1.0000e+00]]], device='cuda:0')\n",
      "log_rot_again: tensor([[1.0000e-03, 1.0000e-04, 2.0000e-04],\n",
      "        [1.0000e-04, 1.0000e-03, 2.0000e-04],\n",
      "        [1.0000e-04, 2.0000e-04, 1.0000e-03],\n",
      "        [1.0000e-03, 2.0000e-03, 3.0000e-03]], device='cuda:0')\n"
     ]
    }
   ],
   "source": [
    "import torch\n",
    "from pytorch3d.transforms.so3 import so3_exp_map, so3_log_map, hat_inv, hat\n",
    "\n",
    "if torch.cuda.is_available():\n",
    "    device = torch.device(\"cuda:0\")\n",
    "else:\n",
    "    device = torch.device(\"cpu\")\n",
    "    print(\"WARNING: CPU only, this will be slow!\")\n",
    "\n",
    "log_rot = torch.zeros([4, 3], device=device)\n",
    "log_rot[0, 0] = 0.001\n",
    "log_rot[0, 1] = 0.0001\n",
    "log_rot[0, 2] = 0.0002\n",
    "\n",
    "log_rot[1, 0] = 0.0001\n",
    "log_rot[1, 1] = 0.001\n",
    "log_rot[1, 2] = 0.0002\n",
    "\n",
    "log_rot[2, 0] = 0.0001\n",
    "log_rot[2, 1] = 0.0002\n",
    "log_rot[2, 2] = 0.001\n",
    "\n",
    "log_rot[3, 0] = 0.001\n",
    "log_rot[3, 1] = 0.002\n",
    "log_rot[3, 2] = 0.003\n",
    "\n",
    "log_rot_hat = hat(log_rot)\n",
    "print(f\"log_rot_hat shape: {log_rot_hat.shape}\")\n",
    "print(f\"log_rot_hat: {log_rot_hat}\")\n",
    "\n",
    "log_rot_copy = hat_inv(log_rot_hat)\n",
    "print(f\"log_rot_copy shape: {log_rot_copy.shape}\")\n",
    "print(f\"log_rot_copy: {log_rot_copy}\")\n",
    "\n",
    "rotation_matrices = so3_exp_map(log_rot)\n",
    "print(f\"rotation_matrices: {rotation_matrices}\")\n",
    "\n",
    "log_rot_again = so3_log_map(rotation_matrices)\n",
    "print(f\"log_rot_again: {log_rot_again}\")"
   ]
  }
 ],
 "metadata": {
  "kernelspec": {
   "display_name": "torch3d",
   "language": "python",
   "name": "python3"
  },
  "language_info": {
   "codemirror_mode": {
    "name": "ipython",
    "version": 3
   },
   "file_extension": ".py",
   "mimetype": "text/x-python",
   "name": "python",
   "nbconvert_exporter": "python",
   "pygments_lexer": "ipython3",
   "version": "3.11.10"
  }
 },
 "nbformat": 4,
 "nbformat_minor": 2
}
