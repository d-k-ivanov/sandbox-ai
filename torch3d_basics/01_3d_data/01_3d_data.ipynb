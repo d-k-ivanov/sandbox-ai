{
 "cells": [
  {
   "cell_type": "markdown",
   "metadata": {},
   "source": [
    "# Open3D"
   ]
  },
  {
   "cell_type": "code",
   "execution_count": null,
   "metadata": {},
   "outputs": [
    {
     "name": "stdout",
     "output_type": "stream",
     "text": [
      "Jupyter environment detected. Enabling Open3D WebVisualizer.\n",
      "[Open3D INFO] WebRTC GUI backend enabled.\n",
      "[Open3D INFO] WebRTCWindowSystem: HTTP handshake server disabled.\n",
      "[Open3D INFO] Resetting default logger to print to terminal.\n"
     ]
    }
   ],
   "source": [
    "import numpy\n",
    "import open3d\n",
    "import open3d.web_visualizer\n",
    "\n",
    "# from open3d import JVisualizer\n",
    "\n",
    "points = (numpy.random.rand(1000, 3) - 0.5) / 4\n",
    "colors = numpy.random.rand(1000, 3)\n",
    "\n",
    "pcd = open3d.geometry.PointCloud()\n",
    "pcd.points = open3d.utility.Vector3dVector(points)\n",
    "pcd.colors = open3d.utility.Vector3dVector(colors)\n",
    "\n",
    "# visualizer = open3d.jvisualizer.JVisualizer()\n",
    "# visualizer.add_geometry(pcd)\n",
    "# visualizer.show()\n",
    "open3d.visualization.draw_geometries([pcd])\n",
    "# open3d.web_visualizer.draw([pcd])"
   ]
  },
  {
   "cell_type": "markdown",
   "metadata": {},
   "source": [
    "# Ply file format"
   ]
  },
  {
   "cell_type": "code",
   "execution_count": 2,
   "metadata": {},
   "outputs": [
    {
     "name": "stdout",
     "output_type": "stream",
     "text": [
      "Visualizing mesh using Open3D\n",
      "Loading mesh using PyTorch3D\n",
      "Type of vertices: <class 'torch.Tensor'>, Type of faces: <class 'torch.Tensor'>\n",
      "Vertices: tensor([[-1., -1., -1.],\n",
      "        [ 1., -1., -1.],\n",
      "        [ 1.,  1., -1.],\n",
      "        [-1.,  1., -1.],\n",
      "        [-1., -1.,  1.],\n",
      "        [ 1., -1.,  1.],\n",
      "        [ 1.,  1.,  1.],\n",
      "        [-1.,  1.,  1.]])\n",
      "Faces: tensor([[0, 1, 2],\n",
      "        [5, 4, 7],\n",
      "        [6, 2, 1],\n",
      "        [3, 7, 4],\n",
      "        [7, 3, 2],\n",
      "        [5, 1, 0],\n",
      "        [0, 2, 3],\n",
      "        [5, 7, 6],\n",
      "        [6, 1, 5],\n",
      "        [3, 4, 0],\n",
      "        [7, 2, 6],\n",
      "        [5, 0, 4]])\n"
     ]
    }
   ],
   "source": [
    "import open3d\n",
    "from pytorch3d.io import load_ply\n",
    "\n",
    "mesh_file = \"cube.ply\"\n",
    "\n",
    "print(\"Visualizing mesh using Open3D\")\n",
    "mesh = open3d.io.read_triangle_mesh(mesh_file)\n",
    "open3d.visualization.draw_geometries([mesh], mesh_show_wireframe=True, mesh_show_back_face=True)\n",
    "\n",
    "print(\"Loading mesh using PyTorch3D\")\n",
    "vertices, faces = load_ply(mesh_file)\n",
    "print(f\"Type of vertices: {type(vertices)}, Type of faces: {type(faces)}\")\n",
    "print(f\"Vertices: {vertices}\")\n",
    "print(f\"Faces: {faces}\")"
   ]
  },
  {
   "cell_type": "code",
   "execution_count": 3,
   "metadata": {},
   "outputs": [
    {
     "name": "stdout",
     "output_type": "stream",
     "text": [
      "Visualizing mesh using Open3D\n",
      "Loading mesh using PyTorch3D\n",
      "Type of vertices: <class 'torch.Tensor'>, Type of faces: <class 'torch.Tensor'>\n",
      "Vertices: tensor([[-1., -1., -1.],\n",
      "        [ 1., -1., -1.],\n",
      "        [ 1.,  1., -1.],\n",
      "        [-1.,  1., -1.],\n",
      "        [-1., -1.,  1.],\n",
      "        [ 1., -1.,  1.],\n",
      "        [ 1.,  1.,  1.],\n",
      "        [-1.,  1.,  1.]])\n",
      "Faces: tensor([[0, 1, 2],\n",
      "        [0, 2, 3],\n",
      "        [5, 4, 7],\n",
      "        [5, 7, 6]])\n"
     ]
    }
   ],
   "source": [
    "import open3d\n",
    "from pytorch3d.io import load_ply\n",
    "\n",
    "mesh_file = \"parallel_plane_mono.ply\"\n",
    "\n",
    "print(\"Visualizing mesh using Open3D\")\n",
    "mesh = open3d.io.read_triangle_mesh(mesh_file)\n",
    "open3d.visualization.draw_geometries([mesh], mesh_show_wireframe=True, mesh_show_back_face=True)\n",
    "\n",
    "print(\"Loading mesh using PyTorch3D\")\n",
    "vertices, faces = load_ply(mesh_file)\n",
    "print(f\"Type of vertices: {type(vertices)}, Type of faces: {type(faces)}\")\n",
    "print(f\"Vertices: {vertices}\")\n",
    "print(f\"Faces: {faces}\")"
   ]
  },
  {
   "cell_type": "code",
   "execution_count": 4,
   "metadata": {},
   "outputs": [
    {
     "name": "stdout",
     "output_type": "stream",
     "text": [
      "Visualizing mesh using Open3D\n",
      "Loading mesh using PyTorch3D\n",
      "Type of vertices: <class 'torch.Tensor'>, Type of faces: <class 'torch.Tensor'>\n",
      "Vertices: tensor([[-1., -1., -1.],\n",
      "        [ 1., -1., -1.],\n",
      "        [ 1.,  1., -1.],\n",
      "        [-1.,  1., -1.],\n",
      "        [-1., -1.,  1.],\n",
      "        [ 1., -1.,  1.],\n",
      "        [ 1.,  1.,  1.],\n",
      "        [-1.,  1.,  1.]])\n",
      "Faces: tensor([[0, 1, 2],\n",
      "        [0, 2, 3],\n",
      "        [5, 4, 7],\n",
      "        [5, 7, 6]])\n"
     ]
    }
   ],
   "source": [
    "import open3d\n",
    "from pytorch3d.io import load_ply\n",
    "\n",
    "mesh_file = \"parallel_plane_color.ply\"\n",
    "\n",
    "print(\"Visualizing mesh using Open3D\")\n",
    "mesh = open3d.io.read_triangle_mesh(mesh_file)\n",
    "open3d.visualization.draw_geometries([mesh], mesh_show_wireframe=True, mesh_show_back_face=True)\n",
    "\n",
    "print(\"Loading mesh using PyTorch3D\")\n",
    "vertices, faces = load_ply(mesh_file)\n",
    "print(f\"Type of vertices: {type(vertices)}, Type of faces: {type(faces)}\")\n",
    "print(f\"Vertices: {vertices}\")\n",
    "print(f\"Faces: {faces}\")"
   ]
  },
  {
   "cell_type": "code",
   "execution_count": 6,
   "metadata": {},
   "outputs": [
    {
     "name": "stdout",
     "output_type": "stream",
     "text": [
      "Visualizing mesh using Open3D\n",
      "Loading mesh using PyTorch3D\n",
      "Type of vertices: <class 'torch.Tensor'>, Type of faces: <class 'torch.Tensor'>\n",
      "Vertices: tensor([[-1., -1., -1.],\n",
      "        [ 1., -1., -1.],\n",
      "        [ 1.,  1., -1.],\n",
      "        [-1.,  1., -1.],\n",
      "        [-1., -1.,  1.],\n",
      "        [ 1., -1.,  1.],\n",
      "        [ 1.,  1.,  1.],\n",
      "        [-1.,  1.,  1.]])\n",
      "Faces: tensor([[0, 1, 2],\n",
      "        [5, 4, 7],\n",
      "        [6, 2, 1],\n",
      "        [3, 7, 4],\n",
      "        [7, 3, 2],\n",
      "        [5, 1, 0],\n",
      "        [0, 2, 3],\n",
      "        [5, 7, 6],\n",
      "        [6, 1, 5],\n",
      "        [3, 4, 0],\n",
      "        [7, 2, 6],\n",
      "        [5, 0, 4]])\n"
     ]
    }
   ],
   "source": [
    "import open3d\n",
    "from pytorch3d.io import load_ply\n",
    "\n",
    "mesh_file = \"cube_color.ply\"\n",
    "\n",
    "print(\"Visualizing mesh using Open3D\")\n",
    "mesh = open3d.io.read_triangle_mesh(mesh_file)\n",
    "open3d.visualization.draw_geometries([mesh], mesh_show_wireframe=True, mesh_show_back_face=True)\n",
    "\n",
    "print(\"Loading mesh using PyTorch3D\")\n",
    "vertices, faces = load_ply(mesh_file)\n",
    "print(f\"Type of vertices: {type(vertices)}, Type of faces: {type(faces)}\")\n",
    "print(f\"Vertices: {vertices}\")\n",
    "print(f\"Faces: {faces}\")"
   ]
  },
  {
   "cell_type": "code",
   "execution_count": 5,
   "metadata": {},
   "outputs": [
    {
     "name": "stdout",
     "output_type": "stream",
     "text": [
      "Visualizing mesh using Open3D\n",
      "Loading mesh using PyTorch3D\n",
      "Type of vertices: <class 'torch.Tensor'>, Type of faces: <class 'torch.Tensor'>\n",
      "Vertices: tensor([[ 0.6055,  0.1831, -0.4723],\n",
      "        [ 0.6492,  0.1297, -0.4949],\n",
      "        [ 0.6011,  0.1055, -0.5333],\n",
      "        ...,\n",
      "        [-1.4558,  0.6748,  0.2449],\n",
      "        [-1.2448,  0.6488,  0.2009],\n",
      "        [-1.4893,  0.6437,  0.2272]])\n",
      "Faces: tensor([[   0,    1,    2],\n",
      "        [   1,    3,    4],\n",
      "        [   5,    6,    2],\n",
      "        ...,\n",
      "        [2370, 2839, 2837],\n",
      "        [2491, 2013, 2011],\n",
      "        [2498, 2381, 2433]])\n"
     ]
    }
   ],
   "source": [
    "import open3d\n",
    "from pytorch3d.io import load_ply\n",
    "\n",
    "mesh_file = \"cow.ply\"\n",
    "\n",
    "print(\"Visualizing mesh using Open3D\")\n",
    "mesh = open3d.io.read_triangle_mesh(mesh_file)\n",
    "open3d.visualization.draw_geometries([mesh], mesh_show_wireframe=True, mesh_show_back_face=True)\n",
    "\n",
    "print(\"Loading mesh using PyTorch3D\")\n",
    "vertices, faces = load_ply(mesh_file)\n",
    "print(f\"Type of vertices: {type(vertices)}, Type of faces: {type(faces)}\")\n",
    "print(f\"Vertices: {vertices}\")\n",
    "print(f\"Faces: {faces}\")"
   ]
  },
  {
   "cell_type": "markdown",
   "metadata": {},
   "source": [
    "# Wavefront OBJ file format"
   ]
  },
  {
   "cell_type": "code",
   "execution_count": 10,
   "metadata": {},
   "outputs": [
    {
     "name": "stdout",
     "output_type": "stream",
     "text": [
      "Visualizing mesh using Open3D\n",
      "Loading the same file with PyTorch3D\n",
      "Vertices type: <class 'torch.Tensor'>\n",
      "Vertices: tensor([[-50., -50.,  20.],\n",
      "        [-50., -50.,  10.],\n",
      "        [-50.,  50.,  10.],\n",
      "        [-50.,  50.,  20.],\n",
      "        [ 50., -50.,  20.],\n",
      "        [ 50., -50.,  10.],\n",
      "        [ 50.,  50.,  10.],\n",
      "        [ 50.,  50.,  20.]])\n",
      "Faces type: <class 'pytorch3d.io.obj_io.Faces'>\n",
      "Faces: Faces(verts_idx=tensor([[0, 1, 2],\n",
      "        [5, 4, 7],\n",
      "        [6, 2, 1],\n",
      "        [3, 7, 4],\n",
      "        [7, 3, 2],\n",
      "        [5, 1, 0],\n",
      "        [0, 2, 3],\n",
      "        [5, 7, 6],\n",
      "        [6, 1, 5],\n",
      "        [3, 4, 0],\n",
      "        [7, 2, 6],\n",
      "        [5, 0, 4]]), normals_idx=tensor([[-1, -1, -1],\n",
      "        [-1, -1, -1],\n",
      "        [-1, -1, -1],\n",
      "        [-1, -1, -1],\n",
      "        [-1, -1, -1],\n",
      "        [-1, -1, -1],\n",
      "        [-1, -1, -1],\n",
      "        [-1, -1, -1],\n",
      "        [-1, -1, -1],\n",
      "        [-1, -1, -1],\n",
      "        [-1, -1, -1],\n",
      "        [-1, -1, -1]]), textures_idx=tensor([[-1, -1, -1],\n",
      "        [-1, -1, -1],\n",
      "        [-1, -1, -1],\n",
      "        [-1, -1, -1],\n",
      "        [-1, -1, -1],\n",
      "        [-1, -1, -1],\n",
      "        [-1, -1, -1],\n",
      "        [-1, -1, -1],\n",
      "        [-1, -1, -1],\n",
      "        [-1, -1, -1],\n",
      "        [-1, -1, -1],\n",
      "        [-1, -1, -1]]), materials_idx=tensor([0, 0, 0, 0, 0, 0, 0, 0, 0, 0, 0, 0]))\n",
      "Aux type: <class 'pytorch3d.io.obj_io.Properties'>\n",
      "Aux: Properties(normals=None, verts_uvs=None, material_colors={'Door': {'ambient_color': tensor([0.8000, 0.6000, 0.4000]), 'diffuse_color': tensor([0.8000, 0.6000, 0.4000]), 'specular_color': tensor([0.9000, 0.9000, 0.9000]), 'shininess': tensor([0.])}}, texture_images={}, texture_atlas=None)\n"
     ]
    }
   ],
   "source": [
    "import open3d\n",
    "from pytorch3d.io import load_obj\n",
    "\n",
    "mesh_file = \"cube.obj\"\n",
    "\n",
    "print(\"Visualizing mesh using Open3D\")\n",
    "mesh = open3d.io.read_triangle_mesh(mesh_file)\n",
    "open3d.visualization.draw_geometries([mesh], mesh_show_wireframe=True, mesh_show_back_face=True)\n",
    "\n",
    "print(\"Loading the same file with PyTorch3D\")\n",
    "vertices, faces, aux = load_obj(mesh_file)\n",
    "print(f\"Vertices type: {type(vertices)}\")\n",
    "print(f\"Vertices: {vertices}\")\n",
    "print(f\"Faces type: {type(faces)}\")\n",
    "print(f\"Faces: {faces}\")\n",
    "print(f\"Aux type: {type(aux)}\")\n",
    "print(f\"Aux: {aux}\")"
   ]
  },
  {
   "cell_type": "markdown",
   "metadata": {},
   "source": [
    "# Camera"
   ]
  },
  {
   "cell_type": "code",
   "execution_count": null,
   "metadata": {},
   "outputs": [
    {
     "name": "stdout",
     "output_type": "stream",
     "text": [
      "visualizing the mesh using open3D\n",
      "The type of world_to_screen_transform =  <class 'pytorch3d.transforms.transform3d.Transform3d'>\n"
     ]
    }
   ],
   "source": [
    "import open3d\n",
    "import torch\n",
    "\n",
    "from pytorch3d.io import load_obj\n",
    "from pytorch3d.renderer.cameras import PerspectiveCameras, OrthographicCameras\n",
    "\n",
    "from scipy.spatial.transform import Rotation as Rotation\n",
    "\n",
    "# Load meshes and visualize it with Open3D\n",
    "mesh_file = \"cube.obj\"\n",
    "print(\"visualizing the mesh using open3D\")\n",
    "mesh = open3d.io.read_triangle_mesh(mesh_file)\n",
    "# open3d.visualization.draw_geometries([mesh], mesh_show_wireframe=True, mesh_show_back_face=True)\n",
    "\n",
    "# Define a mini-batch of 8 cameras\n",
    "image_size = torch.ones(8, 2)\n",
    "image_size[:, 0] = image_size[:, 0] * 1024\n",
    "image_size[:, 1] = image_size[:, 1] * 512\n",
    "image_size = image_size.cuda()\n",
    "\n",
    "focal_length = torch.ones(8, 2)\n",
    "focal_length[:, 0] = focal_length[:, 0] * 1200\n",
    "focal_length[:, 1] = focal_length[:, 1] * 300\n",
    "focal_length = focal_length.cuda()\n",
    "\n",
    "principal_point = torch.ones(8, 2)\n",
    "principal_point[:, 0] = principal_point[:, 0] * 512\n",
    "principal_point[:, 1] = principal_point[:, 1] * 256\n",
    "principal_point = principal_point.cuda()\n",
    "\n",
    "R = Rotation.from_euler(\"zyx\", [[n * 5, n, n] for n in range(-4, 4, 1)], degrees=True).as_matrix()\n",
    "R = torch.from_numpy(R).cuda()\n",
    "T = [[n, 0, 0] for n in range(-4, 4, 1)]\n",
    "T = torch.FloatTensor(T).cuda()\n",
    "\n",
    "# print('R = ', R)\n",
    "# exit()\n",
    "\n",
    "camera = PerspectiveCameras(\n",
    "    focal_length=focal_length,\n",
    "    principal_point=principal_point,\n",
    "    in_ndc=False,\n",
    "    image_size=image_size,\n",
    "    R=R,\n",
    "    T=T,\n",
    "    device=\"cuda\",\n",
    ")\n",
    "\n",
    "world_to_view_transform = camera.get_world_to_view_transform()\n",
    "world_to_screen_transform = camera.get_full_projection_transform()\n",
    "print(\"The type of world_to_screen_transform = \", type(world_to_screen_transform))\n",
    "\n",
    "# Load meshes using PyTorch3D\n",
    "vertices, faces, aux = load_obj(mesh_file)\n",
    "vertices = vertices.cuda()\n",
    "\n",
    "world_to_view_vertices = world_to_view_transform.transform_points(vertices)\n",
    "world_to_screen_vertices = world_to_screen_transform.transform_points(vertices)\n",
    "\n",
    "\n",
    "# print(\"world_to_view_vertices = \", world_to_view_vertices)\n",
    "# print(\"world_to_screen_vertices = \", world_to_screen_vertices)"
   ]
  }
 ],
 "metadata": {
  "kernelspec": {
   "display_name": "torch3d",
   "language": "python",
   "name": "python3"
  },
  "language_info": {
   "codemirror_mode": {
    "name": "ipython",
    "version": 3
   },
   "file_extension": ".py",
   "mimetype": "text/x-python",
   "name": "python",
   "nbconvert_exporter": "python",
   "pygments_lexer": "ipython3",
   "version": "3.11.10"
  }
 },
 "nbformat": 4,
 "nbformat_minor": 4
}
